{
 "cells": [
  {
   "cell_type": "code",
   "execution_count": 17,
   "id": "e5307f91",
   "metadata": {},
   "outputs": [],
   "source": [
    "from nbgeohash import nb_point_decode, nb_vector_decode\n",
    "from pygeohash import point_decode\n",
    "np_vector_decode = np.vectorize(point_decode)"
   ]
  },
  {
   "cell_type": "markdown",
   "id": "e70d8865",
   "metadata": {},
   "source": [
    "# Create random geohashes"
   ]
  },
  {
   "cell_type": "code",
   "execution_count": 11,
   "id": "e679755c",
   "metadata": {},
   "outputs": [],
   "source": [
    "__base32 = '0123456789bcdefghjkmnpqrstuvwxyz'\n",
    "\n",
    "# performance imporvements depend on geohash precision so we're gonna fix it to 12 which is a very common precision\n",
    "geohash = \"\".join(np.random.choice(list(__base32), size=12))\n",
    "\n",
    "# performance improvements also depend on the number of geohashes (thanks to the super optimized numba loop)\n",
    "geohashes = np.array([\n",
    "    \"\".join(arr_hash)\n",
    "    for arr_hash in np.random.choice(list(__base32), size=(100000, 12))\n",
    "])"
   ]
  },
  {
   "cell_type": "markdown",
   "id": "ad106e4c",
   "metadata": {},
   "source": [
    "# Point-wise performance\n",
    "That's a x4.5 gain in performance.\n",
    "I couldn't get any better performances because the python version uses a dictionary which allows it to decode characters very fast (compared to anything possible in numba)."
   ]
  },
  {
   "cell_type": "code",
   "execution_count": 13,
   "id": "2fad025b",
   "metadata": {},
   "outputs": [
    {
     "name": "stdout",
     "output_type": "stream",
     "text": [
      "20.4 µs ± 367 ns per loop (mean ± std. dev. of 7 runs, 10000 loops each)\n"
     ]
    }
   ],
   "source": [
    "%%timeit\n",
    "point_decode(geohash)"
   ]
  },
  {
   "cell_type": "code",
   "execution_count": 5,
   "id": "ed686089",
   "metadata": {},
   "outputs": [
    {
     "name": "stdout",
     "output_type": "stream",
     "text": [
      "4.48 µs ± 16.8 ns per loop (mean ± std. dev. of 7 runs, 100000 loops each)\n"
     ]
    }
   ],
   "source": [
    "%%timeit\n",
    "nb_point_decode(geohash)"
   ]
  },
  {
   "cell_type": "markdown",
   "id": "b44c5b7e",
   "metadata": {},
   "source": [
    "# Vector-wise performance\n",
    "That's a x11 gain in performance and we are comparing to an optimized vectorization from numpy here"
   ]
  },
  {
   "cell_type": "code",
   "execution_count": 18,
   "id": "1f7ae96e",
   "metadata": {},
   "outputs": [
    {
     "name": "stdout",
     "output_type": "stream",
     "text": [
      "2.09 s ± 25.6 ms per loop (mean ± std. dev. of 7 runs, 1 loop each)\n"
     ]
    }
   ],
   "source": [
    "%%timeit\n",
    "np_vector_decode(geohashes)"
   ]
  },
  {
   "cell_type": "code",
   "execution_count": 7,
   "id": "e6ec496c",
   "metadata": {},
   "outputs": [
    {
     "name": "stdout",
     "output_type": "stream",
     "text": [
      "164 ms ± 1.66 ms per loop (mean ± std. dev. of 7 runs, 10 loops each)\n"
     ]
    }
   ],
   "source": [
    "%%timeit\n",
    "nb_vector_decode(geohashes)"
   ]
  }
 ],
 "metadata": {
  "kernelspec": {
   "display_name": "Python 3",
   "language": "python",
   "name": "python3"
  },
  "language_info": {
   "codemirror_mode": {
    "name": "ipython",
    "version": 3
   },
   "file_extension": ".py",
   "mimetype": "text/x-python",
   "name": "python",
   "nbconvert_exporter": "python",
   "pygments_lexer": "ipython3",
   "version": "3.8.11"
  },
  "nbTranslate": {
   "displayLangs": [
    "*"
   ],
   "hotkey": "alt-t",
   "langInMainMenu": true,
   "sourceLang": "en",
   "targetLang": "fr",
   "useGoogleTranslate": true
  },
  "toc": {
   "base_numbering": 1,
   "nav_menu": {},
   "number_sections": true,
   "sideBar": true,
   "skip_h1_title": false,
   "title_cell": "Table of Contents",
   "title_sidebar": "Contents",
   "toc_cell": false,
   "toc_position": {},
   "toc_section_display": true,
   "toc_window_display": false
  },
  "varInspector": {
   "cols": {
    "lenName": 16,
    "lenType": 16,
    "lenVar": 40
   },
   "kernels_config": {
    "python": {
     "delete_cmd_postfix": "",
     "delete_cmd_prefix": "del ",
     "library": "var_list.py",
     "varRefreshCmd": "print(var_dic_list())"
    },
    "r": {
     "delete_cmd_postfix": ") ",
     "delete_cmd_prefix": "rm(",
     "library": "var_list.r",
     "varRefreshCmd": "cat(var_dic_list()) "
    }
   },
   "oldHeight": 427,
   "position": {
    "height": "40px",
    "left": "1311px",
    "right": "20px",
    "top": "109px",
    "width": "596px"
   },
   "types_to_exclude": [
    "module",
    "function",
    "builtin_function_or_method",
    "instance",
    "_Feature"
   ],
   "varInspector_section_display": "none",
   "window_display": true
  }
 },
 "nbformat": 4,
 "nbformat_minor": 5
}
