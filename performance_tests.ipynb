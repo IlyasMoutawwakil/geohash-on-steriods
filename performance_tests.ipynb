{
 "cells": [
  {
   "cell_type": "code",
   "execution_count": 1,
   "id": "e5307f91",
   "metadata": {},
   "outputs": [],
   "source": [
    "import numpy as np\n",
    "import numba as nb\n",
    "from nbgeohash import nb_point_decode, nb_point_encode, nb_vector_decode, nb_vector_encode\n",
    "from pygeohash import point_decode, point_encode\n",
    "np_vector_decode = np.vectorize(point_decode)\n",
    "np_vector_encode = np.vectorize(point_encode)"
   ]
  },
  {
   "cell_type": "markdown",
   "id": "e70d8865",
   "metadata": {},
   "source": [
    "# Create random geohashes"
   ]
  },
  {
   "cell_type": "code",
   "execution_count": 11,
   "id": "e679755c",
   "metadata": {},
   "outputs": [
    {
     "data": {
      "text/plain": [
       "array(['bpzpgxczbzur', 'p81b0bh2n0p0', 'j040h2081040', ...,\n",
       "       'n0n2hb1850n2', 'gpbxyzbpvxyp', 'p81040h20810'], dtype='<U12')"
      ]
     },
     "execution_count": 11,
     "metadata": {},
     "output_type": "execute_result"
    }
   ],
   "source": [
    "__base32 = '0123456789bcdefghjkmnpqrstuvwxyz'\n",
    "\n",
    "# performance imporvements depend on geohash precision so we're gonna fix it to 12 which is a very common precision\n",
    "geohash = \"\".join(np.random.choice(list(__base32), size=12))\n",
    "# performance improvements also depend on the number of geohashes so we're gonna fix it to 100000\n",
    "geohashes = np.array([\n",
    "    \"\".join(arr_hash)\n",
    "    for arr_hash in np.random.choice(list(__base32), size=(100000, 12))\n",
    "])\n",
    "\n",
    "# same thing for encoding\n",
    "latitude, longitude = np.random.randint(-90, 90,\n",
    "                                        size=1), np.random.randint(-180,\n",
    "                                                                   180,\n",
    "                                                                   size=1)\n",
    "latitudes, longitudes = np.random.randint(\n",
    "    -90, 90, size=100000), np.random.randint(-180, 180, size=100000)\n",
    "\n",
    "# warm up for compilation\n",
    "nb_point_decode(geohash)\n",
    "nb_point_encode(latitude, longitude)\n",
    "nb_vector_decode(geohashes)\n",
    "nb_vector_encode(latitudes, longitudes)"
   ]
  },
  {
   "cell_type": "markdown",
   "id": "ad106e4c",
   "metadata": {},
   "source": [
    "# Point-wise performance"
   ]
  },
  {
   "cell_type": "code",
   "execution_count": 3,
   "id": "c6175a63",
   "metadata": {},
   "outputs": [
    {
     "name": "stdout",
     "output_type": "stream",
     "text": [
      "19.5 µs ± 470 ns per loop (mean ± std. dev. of 7 runs, 10000 loops each)\n"
     ]
    }
   ],
   "source": [
    "%%timeit\n",
    "point_decode(geohash)"
   ]
  },
  {
   "cell_type": "code",
   "execution_count": 4,
   "id": "2fad025b",
   "metadata": {},
   "outputs": [
    {
     "name": "stdout",
     "output_type": "stream",
     "text": [
      "4.75 µs ± 216 ns per loop (mean ± std. dev. of 7 runs, 100000 loops each)\n"
     ]
    }
   ],
   "source": [
    "%%timeit\n",
    "nb_point_decode(geohash)"
   ]
  },
  {
   "cell_type": "code",
   "execution_count": 5,
   "id": "ed686089",
   "metadata": {},
   "outputs": [
    {
     "name": "stdout",
     "output_type": "stream",
     "text": [
      "92.8 µs ± 2.37 µs per loop (mean ± std. dev. of 7 runs, 10000 loops each)\n"
     ]
    }
   ],
   "source": [
    "%%timeit\n",
    "point_encode(latitude, longitude)"
   ]
  },
  {
   "cell_type": "code",
   "execution_count": 6,
   "id": "db48ad9c",
   "metadata": {},
   "outputs": [
    {
     "name": "stdout",
     "output_type": "stream",
     "text": [
      "11.2 µs ± 663 ns per loop (mean ± std. dev. of 7 runs, 100000 loops each)\n"
     ]
    }
   ],
   "source": [
    "%%timeit\n",
    "nb_point_encode(latitude, longitude)"
   ]
  },
  {
   "cell_type": "markdown",
   "id": "c79ae8a1",
   "metadata": {},
   "source": [
    "- That's a x4 gain in decoding performance and a x9 gain in encoding performance.\n",
    "\n",
    "- Decoding can become faster if ever I find a fast hashtable in Numba because for now I'm using the `ord` to decode base32 characters while the python implementation uses a python dictionary xhich is extremely fast (compared to anything possible in numba)."
   ]
  },
  {
   "cell_type": "markdown",
   "id": "b44c5b7e",
   "metadata": {},
   "source": [
    "# Vector-wise performance"
   ]
  },
  {
   "cell_type": "code",
   "execution_count": 7,
   "id": "1f7ae96e",
   "metadata": {},
   "outputs": [
    {
     "name": "stdout",
     "output_type": "stream",
     "text": [
      "1.94 s ± 13.2 ms per loop (mean ± std. dev. of 7 runs, 1 loop each)\n"
     ]
    }
   ],
   "source": [
    "%%timeit\n",
    "np_vector_decode(geohashes)"
   ]
  },
  {
   "cell_type": "code",
   "execution_count": 8,
   "id": "e6ec496c",
   "metadata": {},
   "outputs": [
    {
     "name": "stdout",
     "output_type": "stream",
     "text": [
      "193 ms ± 3.85 ms per loop (mean ± std. dev. of 7 runs, 10 loops each)\n"
     ]
    }
   ],
   "source": [
    "%%timeit\n",
    "nb_vector_decode(geohashes)"
   ]
  },
  {
   "cell_type": "code",
   "execution_count": 9,
   "id": "0dd351c7",
   "metadata": {},
   "outputs": [
    {
     "name": "stdout",
     "output_type": "stream",
     "text": [
      "2.57 s ± 53.8 ms per loop (mean ± std. dev. of 7 runs, 1 loop each)\n"
     ]
    }
   ],
   "source": [
    "%%timeit\n",
    "np_vector_encode(latitudes, longitudes)"
   ]
  },
  {
   "cell_type": "code",
   "execution_count": 10,
   "id": "e5cb6dda",
   "metadata": {},
   "outputs": [
    {
     "name": "stdout",
     "output_type": "stream",
     "text": [
      "443 ms ± 12.7 ms per loop (mean ± std. dev. of 7 runs, 1 loop each)\n"
     ]
    }
   ],
   "source": [
    "%%timeit\n",
    "nb_vector_encode(latitudes, longitudes)"
   ]
  },
  {
   "cell_type": "markdown",
   "id": "84902a2b",
   "metadata": {},
   "source": [
    "- That's a x10 gain in decoding performance and x5 gain in encoding performance.\n",
    "- Note that we are comparing Numba implementation to Python functions with optimized vectorization from Numpy. that's why the encoding performance gain is less than the one from point-wise functions."
   ]
  }
 ],
 "metadata": {
  "kernelspec": {
   "display_name": "Python 3",
   "language": "python",
   "name": "python3"
  },
  "language_info": {
   "codemirror_mode": {
    "name": "ipython",
    "version": 3
   },
   "file_extension": ".py",
   "mimetype": "text/x-python",
   "name": "python",
   "nbconvert_exporter": "python",
   "pygments_lexer": "ipython3",
   "version": "3.8.11"
  },
  "nbTranslate": {
   "displayLangs": [
    "*"
   ],
   "hotkey": "alt-t",
   "langInMainMenu": true,
   "sourceLang": "en",
   "targetLang": "fr",
   "useGoogleTranslate": true
  },
  "toc": {
   "base_numbering": 1,
   "nav_menu": {},
   "number_sections": true,
   "sideBar": true,
   "skip_h1_title": false,
   "title_cell": "Table of Contents",
   "title_sidebar": "Contents",
   "toc_cell": false,
   "toc_position": {},
   "toc_section_display": true,
   "toc_window_display": false
  },
  "varInspector": {
   "cols": {
    "lenName": 16,
    "lenType": 16,
    "lenVar": 40
   },
   "kernels_config": {
    "python": {
     "delete_cmd_postfix": "",
     "delete_cmd_prefix": "del ",
     "library": "var_list.py",
     "varRefreshCmd": "print(var_dic_list())"
    },
    "r": {
     "delete_cmd_postfix": ") ",
     "delete_cmd_prefix": "rm(",
     "library": "var_list.r",
     "varRefreshCmd": "cat(var_dic_list()) "
    }
   },
   "oldHeight": 427,
   "position": {
    "height": "40px",
    "left": "1311px",
    "right": "20px",
    "top": "109px",
    "width": "596px"
   },
   "types_to_exclude": [
    "module",
    "function",
    "builtin_function_or_method",
    "instance",
    "_Feature"
   ],
   "varInspector_section_display": "none",
   "window_display": true
  }
 },
 "nbformat": 4,
 "nbformat_minor": 5
}
